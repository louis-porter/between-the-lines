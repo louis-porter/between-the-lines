{
 "cells": [
  {
   "cell_type": "code",
   "execution_count": 7,
   "id": "fec83f76",
   "metadata": {},
   "outputs": [
    {
     "data": {
      "application/vnd.microsoft.datawrangler.viewer.v0+json": {
       "columns": [
        {
         "name": "index",
         "rawType": "int64",
         "type": "integer"
        },
        {
         "name": "release_date",
         "rawType": "datetime64[ns]",
         "type": "datetime"
        },
        {
         "name": "Movie",
         "rawType": "object",
         "type": "string"
        },
        {
         "name": "production_budget",
         "rawType": "int64",
         "type": "integer"
        },
        {
         "name": "domestic_gross",
         "rawType": "int64",
         "type": "integer"
        },
        {
         "name": "worldwide_gross",
         "rawType": "int64",
         "type": "integer"
        }
       ],
       "conversionMethod": "pd.DataFrame",
       "ref": "e296000d-40f4-4cc9-852f-39151e3fcc67",
       "rows": [
        [
         "0",
         "2023-01-13 00:00:00",
         "Skinamarink",
         "15000",
         "2052272",
         "2131183"
        ],
        [
         "1",
         "2006-06-02 00:00:00",
         "The Puffy Chair",
         "15000",
         "194523",
         "195254"
        ],
        [
         "2",
         "2010-04-02 00:00:00",
         "Breaking Upwards",
         "15000",
         "115592",
         "115592"
        ],
        [
         "3",
         "2020-10-16 00:00:00",
         "Sh*thouse",
         "15000",
         "18148",
         "24745"
        ],
        [
         "4",
         null,
         "Stories of Our Lives",
         "15000",
         "0",
         "0"
        ],
        [
         "5",
         "1997-04-11 00:00:00",
         "Pink Flamingos",
         "12000",
         "413802",
         "413802"
        ],
        [
         "6",
         "2006-04-28 00:00:00",
         "Grip: A Criminal's Story",
         "12000",
         "1336",
         "1336"
        ],
        [
         "7",
         null,
         "Tin Can Man",
         "12000",
         "0",
         "0"
        ],
        [
         "8",
         "2001-03-09 00:00:00",
         "Dayereh",
         "10000",
         "673780",
         "683509"
        ],
        [
         "9",
         "2006-04-28 00:00:00",
         "Clean",
         "10000",
         "138711",
         "138711"
        ],
        [
         "10",
         "2001-07-06 00:00:00",
         "Cure",
         "10000",
         "94596",
         "355115"
        ],
        [
         "11",
         "2004-05-28 00:00:00",
         "On the Downlow",
         "10000",
         "1987",
         "1987"
        ],
        [
         "12",
         "1996-04-01 00:00:00",
         "Bang",
         "10000",
         "527",
         "527"
        ],
        [
         "13",
         "2008-08-14 00:00:00",
         "The Rise and Fall of Miss Thang",
         "10000",
         "401",
         "401"
        ],
        [
         "14",
         "2015-05-19 00:00:00",
         "Family Motocross",
         "10000",
         "0",
         "0"
        ],
        [
         "15",
         "2012-01-13 00:00:00",
         "Newlyweds",
         "9000",
         "4584",
         "4584"
        ],
        [
         "16",
         "2004-10-08 00:00:00",
         "Primer",
         "7000",
         "424760",
         "841926"
        ],
        [
         "17",
         "2006-05-26 00:00:00",
         "Cavite",
         "7000",
         "70071",
         "71644"
        ],
        [
         "18",
         null,
         "The Mongol King",
         "7000",
         "900",
         "900"
        ],
        [
         "19",
         "2022-03-01 00:00:00",
         "Red 11",
         "7000",
         "0",
         "0"
        ],
        [
         "20",
         "1999-04-02 00:00:00",
         "Following",
         "6000",
         "48482",
         "240495"
        ],
        [
         "21",
         "2005-07-13 00:00:00",
         "Return to the Land of Wonders",
         "5000",
         "1338",
         "1338"
        ],
        [
         "22",
         "2015-09-29 00:00:00",
         "A Plague So Pleasant",
         "1400",
         "0",
         "0"
        ],
        [
         "23",
         "2005-08-05 00:00:00",
         "My Date With Drew",
         "1100",
         "181041",
         "181041"
        ],
        [
         "24",
         "2021-03-02 00:00:00",
         "Neeras",
         "86",
         "0",
         "0"
        ],
        [
         "25",
         "1964-12-04 00:00:00",
         "Une Femme Mariée",
         "120000",
         "0",
         "0"
        ],
        [
         "26",
         "1968-10-01 00:00:00",
         "Night of the Living Dead",
         "114000",
         "12087064",
         "30087064"
        ],
        [
         "27",
         "1915-02-08 00:00:00",
         "The Birth of a Nation",
         "110000",
         "10000000",
         "11000000"
        ],
        [
         "28",
         "1990-01-05 00:00:00",
         "Henry: Portrait of a Serial Killer",
         "110000",
         "609939",
         "613865"
        ],
        [
         "29",
         "2003-10-03 00:00:00",
         "The Work and the Story",
         "103000",
         "16137",
         "16137"
        ],
        [
         "30",
         "2015-07-09 00:00:00",
         "The Gallows",
         "100000",
         "22764410",
         "42964410"
        ],
        [
         "31",
         "2006-09-29 00:00:00",
         "Facing the Giants",
         "100000",
         "10178331",
         "10243159"
        ],
        [
         "32",
         null,
         "Eraserhead",
         "100000",
         "7000000",
         "7105340"
        ],
        [
         "33",
         "1987-03-01 00:00:00",
         "Hollywood Shuffle",
         "100000",
         "5228617",
         "5228617"
        ],
        [
         "34",
         "1920-09-17 00:00:00",
         "Over the Hill to the Poorhouse",
         "100000",
         "3000000",
         "3000000"
        ],
        [
         "35",
         "1998-10-09 00:00:00",
         "The Mighty",
         "100000",
         "2652246",
         "6121582"
        ],
        [
         "36",
         "2017-07-07 00:00:00",
         "A Ghost Story",
         "100000",
         "1594798",
         "2769782"
        ],
        [
         "37",
         "1980-05-10 00:00:00",
         "Penitentiary",
         "100000",
         "287000",
         "287000"
        ],
        [
         "38",
         "2004-02-06 00:00:00",
         "The Lost Skeleton of Cadavra",
         "100000",
         "110536",
         "110536"
        ],
        [
         "39",
         "2014-03-21 00:00:00",
         "Cheap Thrills",
         "100000",
         "59424",
         "59424"
        ],
        [
         "40",
         "2014-06-19 00:00:00",
         "The Past is a Grotesque Animal",
         "100000",
         "20056",
         "20056"
        ],
        [
         "41",
         "2001-11-09 00:00:00",
         "Keeping it Real: The Adventures of Greg Walloch",
         "100000",
         "1358",
         "1358"
        ],
        [
         "42",
         "2012-05-18 00:00:00",
         "Indie Game: The Movie",
         "100000",
         "0",
         "0"
        ],
        [
         "43",
         null,
         "Dude, Where's My Dog",
         "100000",
         "0",
         "0"
        ],
        [
         "44",
         "2014-06-10 00:00:00",
         "Echo Dr.",
         "100000",
         "0",
         "0"
        ],
        [
         "45",
         "2015-03-17 00:00:00",
         "Closure",
         "100000",
         "0",
         "0"
        ],
        [
         "46",
         "2015-08-29 00:00:00",
         "Lunch Time Heroes",
         "100000",
         "0",
         "0"
        ],
        [
         "47",
         "2015-03-25 00:00:00",
         "Open Secret",
         "100000",
         "0",
         "0"
        ],
        [
         "48",
         "2015-11-10 00:00:00",
         "The Night Visitor",
         "100000",
         "0",
         "0"
        ],
        [
         "49",
         "2015-07-07 00:00:00",
         "Tiger Orange",
         "100000",
         "0",
         "0"
        ]
       ],
       "shape": {
        "columns": 5,
        "rows": 6625
       }
      },
      "text/html": [
       "<div>\n",
       "<style scoped>\n",
       "    .dataframe tbody tr th:only-of-type {\n",
       "        vertical-align: middle;\n",
       "    }\n",
       "\n",
       "    .dataframe tbody tr th {\n",
       "        vertical-align: top;\n",
       "    }\n",
       "\n",
       "    .dataframe thead th {\n",
       "        text-align: right;\n",
       "    }\n",
       "</style>\n",
       "<table border=\"1\" class=\"dataframe\">\n",
       "  <thead>\n",
       "    <tr style=\"text-align: right;\">\n",
       "      <th></th>\n",
       "      <th>release_date</th>\n",
       "      <th>Movie</th>\n",
       "      <th>production_budget</th>\n",
       "      <th>domestic_gross</th>\n",
       "      <th>worldwide_gross</th>\n",
       "    </tr>\n",
       "  </thead>\n",
       "  <tbody>\n",
       "    <tr>\n",
       "      <th>0</th>\n",
       "      <td>2023-01-13</td>\n",
       "      <td>Skinamarink</td>\n",
       "      <td>15000</td>\n",
       "      <td>2052272</td>\n",
       "      <td>2131183</td>\n",
       "    </tr>\n",
       "    <tr>\n",
       "      <th>1</th>\n",
       "      <td>2006-06-02</td>\n",
       "      <td>The Puffy Chair</td>\n",
       "      <td>15000</td>\n",
       "      <td>194523</td>\n",
       "      <td>195254</td>\n",
       "    </tr>\n",
       "    <tr>\n",
       "      <th>2</th>\n",
       "      <td>2010-04-02</td>\n",
       "      <td>Breaking Upwards</td>\n",
       "      <td>15000</td>\n",
       "      <td>115592</td>\n",
       "      <td>115592</td>\n",
       "    </tr>\n",
       "    <tr>\n",
       "      <th>3</th>\n",
       "      <td>2020-10-16</td>\n",
       "      <td>Sh*thouse</td>\n",
       "      <td>15000</td>\n",
       "      <td>18148</td>\n",
       "      <td>24745</td>\n",
       "    </tr>\n",
       "    <tr>\n",
       "      <th>4</th>\n",
       "      <td>NaT</td>\n",
       "      <td>Stories of Our Lives</td>\n",
       "      <td>15000</td>\n",
       "      <td>0</td>\n",
       "      <td>0</td>\n",
       "    </tr>\n",
       "    <tr>\n",
       "      <th>...</th>\n",
       "      <td>...</td>\n",
       "      <td>...</td>\n",
       "      <td>...</td>\n",
       "      <td>...</td>\n",
       "      <td>...</td>\n",
       "    </tr>\n",
       "    <tr>\n",
       "      <th>6620</th>\n",
       "      <td>2021-07-28</td>\n",
       "      <td>Jungle Cruise</td>\n",
       "      <td>200000000</td>\n",
       "      <td>116987516</td>\n",
       "      <td>210469803</td>\n",
       "    </tr>\n",
       "    <tr>\n",
       "      <th>6621</th>\n",
       "      <td>2011-06-17</td>\n",
       "      <td>Green Lantern</td>\n",
       "      <td>200000000</td>\n",
       "      <td>116601172</td>\n",
       "      <td>219535492</td>\n",
       "    </tr>\n",
       "    <tr>\n",
       "      <th>6622</th>\n",
       "      <td>2023-06-13</td>\n",
       "      <td>The Flash</td>\n",
       "      <td>200000000</td>\n",
       "      <td>108167507</td>\n",
       "      <td>271467507</td>\n",
       "    </tr>\n",
       "    <tr>\n",
       "      <th>6623</th>\n",
       "      <td>2024-11-06</td>\n",
       "      <td>Red One</td>\n",
       "      <td>200000000</td>\n",
       "      <td>97000759</td>\n",
       "      <td>185884173</td>\n",
       "    </tr>\n",
       "    <tr>\n",
       "      <th>6624</th>\n",
       "      <td>2022-04-06</td>\n",
       "      <td>Fantastic Beasts: The Secrets of Dumbledore</td>\n",
       "      <td>200000000</td>\n",
       "      <td>95850844</td>\n",
       "      <td>407150844</td>\n",
       "    </tr>\n",
       "  </tbody>\n",
       "</table>\n",
       "<p>6625 rows × 5 columns</p>\n",
       "</div>"
      ],
      "text/plain": [
       "     release_date                                        Movie  \\\n",
       "0      2023-01-13                                  Skinamarink   \n",
       "1      2006-06-02                              The Puffy Chair   \n",
       "2      2010-04-02                             Breaking Upwards   \n",
       "3      2020-10-16                                    Sh*thouse   \n",
       "4             NaT                         Stories of Our Lives   \n",
       "...           ...                                          ...   \n",
       "6620   2021-07-28                                Jungle Cruise   \n",
       "6621   2011-06-17                                Green Lantern   \n",
       "6622   2023-06-13                                    The Flash   \n",
       "6623   2024-11-06                                      Red One   \n",
       "6624   2022-04-06  Fantastic Beasts: The Secrets of Dumbledore   \n",
       "\n",
       "      production_budget  domestic_gross  worldwide_gross  \n",
       "0                 15000         2052272          2131183  \n",
       "1                 15000          194523           195254  \n",
       "2                 15000          115592           115592  \n",
       "3                 15000           18148            24745  \n",
       "4                 15000               0                0  \n",
       "...                 ...             ...              ...  \n",
       "6620          200000000       116987516        210469803  \n",
       "6621          200000000       116601172        219535492  \n",
       "6622          200000000       108167507        271467507  \n",
       "6623          200000000        97000759        185884173  \n",
       "6624          200000000        95850844        407150844  \n",
       "\n",
       "[6625 rows x 5 columns]"
      ]
     },
     "execution_count": 7,
     "metadata": {},
     "output_type": "execute_result"
    }
   ],
   "source": [
    "import pandas as pd\n",
    "import datetime\n",
    "\n",
    "df = pd.read_csv(\"movie_budget_data.csv\")\n",
    "\n",
    "df = df.rename(columns={\n",
    "    'Release\\r\\nDate': 'release_date',\n",
    "    'Title': 'movie_title',\n",
    "    'Production\\r\\nBudget': 'production_budget',\n",
    "    'Domestic\\r\\nGross': 'domestic_gross',\n",
    "    'Worldwide\\r\\nGross': 'worldwide_gross'\n",
    "})\n",
    "\n",
    "df['release_date'] = pd.to_datetime(df['release_date'], format='%b %d, %Y', errors='coerce')\n",
    "\n",
    "def currency_to_int(value):\n",
    "    if isinstance(value, str):\n",
    "        return int(value.replace('$', '').replace(',', ''))\n",
    "    return value\n",
    "df['production_budget'] = df['production_budget'].apply(currency_to_int)\n",
    "df['domestic_gross'] = df['domestic_gross'].apply(currency_to_int)\n",
    "df['worldwide_gross'] = df['worldwide_gross'].apply(currency_to_int)\n",
    "\n",
    "df\n"
   ]
  },
  {
   "cell_type": "code",
   "execution_count": null,
   "id": "d8cef3ff",
   "metadata": {},
   "outputs": [
    {
     "data": {
      "application/vnd.microsoft.datawrangler.viewer.v0+json": {
       "columns": [
        {
         "name": "index",
         "rawType": "int64",
         "type": "integer"
        },
        {
         "name": "release_date",
         "rawType": "datetime64[ns]",
         "type": "datetime"
        },
        {
         "name": "Movie",
         "rawType": "object",
         "type": "string"
        },
        {
         "name": "production_budget",
         "rawType": "int64",
         "type": "integer"
        },
        {
         "name": "domestic_gross",
         "rawType": "int64",
         "type": "integer"
        },
        {
         "name": "worldwide_gross",
         "rawType": "int64",
         "type": "integer"
        }
       ],
       "conversionMethod": "pd.DataFrame",
       "ref": "d49b8186-d242-4786-9d66-f5be16d96e8b",
       "rows": [
        [
         "0",
         "2023-01-13 00:00:00",
         "Skinamarink",
         "15000",
         "2052272",
         "2131183"
        ],
        [
         "1",
         "2006-06-02 00:00:00",
         "The Puffy Chair",
         "15000",
         "194523",
         "195254"
        ],
        [
         "2",
         "2010-04-02 00:00:00",
         "Breaking Upwards",
         "15000",
         "115592",
         "115592"
        ],
        [
         "3",
         "2020-10-16 00:00:00",
         "Sh*thouse",
         "15000",
         "18148",
         "24745"
        ],
        [
         "5",
         "1997-04-11 00:00:00",
         "Pink Flamingos",
         "12000",
         "413802",
         "413802"
        ],
        [
         "6",
         "2006-04-28 00:00:00",
         "Grip: A Criminal's Story",
         "12000",
         "1336",
         "1336"
        ],
        [
         "8",
         "2001-03-09 00:00:00",
         "Dayereh",
         "10000",
         "673780",
         "683509"
        ],
        [
         "9",
         "2006-04-28 00:00:00",
         "Clean",
         "10000",
         "138711",
         "138711"
        ],
        [
         "10",
         "2001-07-06 00:00:00",
         "Cure",
         "10000",
         "94596",
         "355115"
        ],
        [
         "11",
         "2004-05-28 00:00:00",
         "On the Downlow",
         "10000",
         "1987",
         "1987"
        ],
        [
         "12",
         "1996-04-01 00:00:00",
         "Bang",
         "10000",
         "527",
         "527"
        ],
        [
         "13",
         "2008-08-14 00:00:00",
         "The Rise and Fall of Miss Thang",
         "10000",
         "401",
         "401"
        ],
        [
         "14",
         "2015-05-19 00:00:00",
         "Family Motocross",
         "10000",
         "0",
         "0"
        ],
        [
         "15",
         "2012-01-13 00:00:00",
         "Newlyweds",
         "9000",
         "4584",
         "4584"
        ],
        [
         "16",
         "2004-10-08 00:00:00",
         "Primer",
         "7000",
         "424760",
         "841926"
        ],
        [
         "17",
         "2006-05-26 00:00:00",
         "Cavite",
         "7000",
         "70071",
         "71644"
        ],
        [
         "19",
         "2022-03-01 00:00:00",
         "Red 11",
         "7000",
         "0",
         "0"
        ],
        [
         "20",
         "1999-04-02 00:00:00",
         "Following",
         "6000",
         "48482",
         "240495"
        ],
        [
         "21",
         "2005-07-13 00:00:00",
         "Return to the Land of Wonders",
         "5000",
         "1338",
         "1338"
        ],
        [
         "22",
         "2015-09-29 00:00:00",
         "A Plague So Pleasant",
         "1400",
         "0",
         "0"
        ],
        [
         "23",
         "2005-08-05 00:00:00",
         "My Date With Drew",
         "1100",
         "181041",
         "181041"
        ],
        [
         "24",
         "2021-03-02 00:00:00",
         "Neeras",
         "86",
         "0",
         "0"
        ],
        [
         "25",
         "1964-12-04 00:00:00",
         "Une Femme Mariée",
         "120000",
         "0",
         "0"
        ],
        [
         "26",
         "1968-10-01 00:00:00",
         "Night of the Living Dead",
         "114000",
         "12087064",
         "30087064"
        ],
        [
         "27",
         "1915-02-08 00:00:00",
         "The Birth of a Nation",
         "110000",
         "10000000",
         "11000000"
        ],
        [
         "28",
         "1990-01-05 00:00:00",
         "Henry: Portrait of a Serial Killer",
         "110000",
         "609939",
         "613865"
        ],
        [
         "29",
         "2003-10-03 00:00:00",
         "The Work and the Story",
         "103000",
         "16137",
         "16137"
        ],
        [
         "30",
         "2015-07-09 00:00:00",
         "The Gallows",
         "100000",
         "22764410",
         "42964410"
        ],
        [
         "31",
         "2006-09-29 00:00:00",
         "Facing the Giants",
         "100000",
         "10178331",
         "10243159"
        ],
        [
         "33",
         "1987-03-01 00:00:00",
         "Hollywood Shuffle",
         "100000",
         "5228617",
         "5228617"
        ],
        [
         "34",
         "1920-09-17 00:00:00",
         "Over the Hill to the Poorhouse",
         "100000",
         "3000000",
         "3000000"
        ],
        [
         "35",
         "1998-10-09 00:00:00",
         "The Mighty",
         "100000",
         "2652246",
         "6121582"
        ],
        [
         "36",
         "2017-07-07 00:00:00",
         "A Ghost Story",
         "100000",
         "1594798",
         "2769782"
        ],
        [
         "37",
         "1980-05-10 00:00:00",
         "Penitentiary",
         "100000",
         "287000",
         "287000"
        ],
        [
         "38",
         "2004-02-06 00:00:00",
         "The Lost Skeleton of Cadavra",
         "100000",
         "110536",
         "110536"
        ],
        [
         "39",
         "2014-03-21 00:00:00",
         "Cheap Thrills",
         "100000",
         "59424",
         "59424"
        ],
        [
         "40",
         "2014-06-19 00:00:00",
         "The Past is a Grotesque Animal",
         "100000",
         "20056",
         "20056"
        ],
        [
         "41",
         "2001-11-09 00:00:00",
         "Keeping it Real: The Adventures of Greg Walloch",
         "100000",
         "1358",
         "1358"
        ],
        [
         "42",
         "2012-05-18 00:00:00",
         "Indie Game: The Movie",
         "100000",
         "0",
         "0"
        ],
        [
         "44",
         "2014-06-10 00:00:00",
         "Echo Dr.",
         "100000",
         "0",
         "0"
        ],
        [
         "45",
         "2015-03-17 00:00:00",
         "Closure",
         "100000",
         "0",
         "0"
        ],
        [
         "46",
         "2015-08-29 00:00:00",
         "Lunch Time Heroes",
         "100000",
         "0",
         "0"
        ],
        [
         "47",
         "2015-03-25 00:00:00",
         "Open Secret",
         "100000",
         "0",
         "0"
        ],
        [
         "48",
         "2015-11-10 00:00:00",
         "The Night Visitor",
         "100000",
         "0",
         "0"
        ],
        [
         "49",
         "2015-07-07 00:00:00",
         "Tiger Orange",
         "100000",
         "0",
         "0"
        ],
        [
         "50",
         "2021-07-30 00:00:00",
         "8 Days to Hell",
         "100000",
         "0",
         "0"
        ],
        [
         "52",
         "2020-05-15 00:00:00",
         "Scoob!",
         "90000",
         "2188425",
         "28748685"
        ],
        [
         "53",
         "1972-08-30 00:00:00",
         "The Last House on the Left",
         "87000",
         "3100000",
         "3100135"
        ],
        [
         "55",
         "2008-05-30 00:00:00",
         "The Foot Fist Way",
         "79000",
         "234286",
         "234286"
        ],
        [
         "56",
         "2015-07-17 00:00:00",
         "Dawn of the Crescent Moon",
         "75000",
         "8799",
         "8799"
        ]
       ],
       "shape": {
        "columns": 5,
        "rows": 6429
       }
      },
      "text/html": [
       "<div>\n",
       "<style scoped>\n",
       "    .dataframe tbody tr th:only-of-type {\n",
       "        vertical-align: middle;\n",
       "    }\n",
       "\n",
       "    .dataframe tbody tr th {\n",
       "        vertical-align: top;\n",
       "    }\n",
       "\n",
       "    .dataframe thead th {\n",
       "        text-align: right;\n",
       "    }\n",
       "</style>\n",
       "<table border=\"1\" class=\"dataframe\">\n",
       "  <thead>\n",
       "    <tr style=\"text-align: right;\">\n",
       "      <th></th>\n",
       "      <th>release_date</th>\n",
       "      <th>Movie</th>\n",
       "      <th>production_budget</th>\n",
       "      <th>domestic_gross</th>\n",
       "      <th>worldwide_gross</th>\n",
       "    </tr>\n",
       "  </thead>\n",
       "  <tbody>\n",
       "    <tr>\n",
       "      <th>0</th>\n",
       "      <td>2023-01-13</td>\n",
       "      <td>Skinamarink</td>\n",
       "      <td>15000</td>\n",
       "      <td>2052272</td>\n",
       "      <td>2131183</td>\n",
       "    </tr>\n",
       "    <tr>\n",
       "      <th>1</th>\n",
       "      <td>2006-06-02</td>\n",
       "      <td>The Puffy Chair</td>\n",
       "      <td>15000</td>\n",
       "      <td>194523</td>\n",
       "      <td>195254</td>\n",
       "    </tr>\n",
       "    <tr>\n",
       "      <th>2</th>\n",
       "      <td>2010-04-02</td>\n",
       "      <td>Breaking Upwards</td>\n",
       "      <td>15000</td>\n",
       "      <td>115592</td>\n",
       "      <td>115592</td>\n",
       "    </tr>\n",
       "    <tr>\n",
       "      <th>3</th>\n",
       "      <td>2020-10-16</td>\n",
       "      <td>Sh*thouse</td>\n",
       "      <td>15000</td>\n",
       "      <td>18148</td>\n",
       "      <td>24745</td>\n",
       "    </tr>\n",
       "    <tr>\n",
       "      <th>5</th>\n",
       "      <td>1997-04-11</td>\n",
       "      <td>Pink Flamingos</td>\n",
       "      <td>12000</td>\n",
       "      <td>413802</td>\n",
       "      <td>413802</td>\n",
       "    </tr>\n",
       "    <tr>\n",
       "      <th>...</th>\n",
       "      <td>...</td>\n",
       "      <td>...</td>\n",
       "      <td>...</td>\n",
       "      <td>...</td>\n",
       "      <td>...</td>\n",
       "    </tr>\n",
       "    <tr>\n",
       "      <th>6620</th>\n",
       "      <td>2021-07-28</td>\n",
       "      <td>Jungle Cruise</td>\n",
       "      <td>200000000</td>\n",
       "      <td>116987516</td>\n",
       "      <td>210469803</td>\n",
       "    </tr>\n",
       "    <tr>\n",
       "      <th>6621</th>\n",
       "      <td>2011-06-17</td>\n",
       "      <td>Green Lantern</td>\n",
       "      <td>200000000</td>\n",
       "      <td>116601172</td>\n",
       "      <td>219535492</td>\n",
       "    </tr>\n",
       "    <tr>\n",
       "      <th>6622</th>\n",
       "      <td>2023-06-13</td>\n",
       "      <td>The Flash</td>\n",
       "      <td>200000000</td>\n",
       "      <td>108167507</td>\n",
       "      <td>271467507</td>\n",
       "    </tr>\n",
       "    <tr>\n",
       "      <th>6623</th>\n",
       "      <td>2024-11-06</td>\n",
       "      <td>Red One</td>\n",
       "      <td>200000000</td>\n",
       "      <td>97000759</td>\n",
       "      <td>185884173</td>\n",
       "    </tr>\n",
       "    <tr>\n",
       "      <th>6624</th>\n",
       "      <td>2022-04-06</td>\n",
       "      <td>Fantastic Beasts: The Secrets of Dumbledore</td>\n",
       "      <td>200000000</td>\n",
       "      <td>95850844</td>\n",
       "      <td>407150844</td>\n",
       "    </tr>\n",
       "  </tbody>\n",
       "</table>\n",
       "<p>6429 rows × 5 columns</p>\n",
       "</div>"
      ],
      "text/plain": [
       "     release_date                                        Movie  \\\n",
       "0      2023-01-13                                  Skinamarink   \n",
       "1      2006-06-02                              The Puffy Chair   \n",
       "2      2010-04-02                             Breaking Upwards   \n",
       "3      2020-10-16                                    Sh*thouse   \n",
       "5      1997-04-11                               Pink Flamingos   \n",
       "...           ...                                          ...   \n",
       "6620   2021-07-28                                Jungle Cruise   \n",
       "6621   2011-06-17                                Green Lantern   \n",
       "6622   2023-06-13                                    The Flash   \n",
       "6623   2024-11-06                                      Red One   \n",
       "6624   2022-04-06  Fantastic Beasts: The Secrets of Dumbledore   \n",
       "\n",
       "      production_budget  domestic_gross  worldwide_gross  \n",
       "0                 15000         2052272          2131183  \n",
       "1                 15000          194523           195254  \n",
       "2                 15000          115592           115592  \n",
       "3                 15000           18148            24745  \n",
       "5                 12000          413802           413802  \n",
       "...                 ...             ...              ...  \n",
       "6620          200000000       116987516        210469803  \n",
       "6621          200000000       116601172        219535492  \n",
       "6622          200000000       108167507        271467507  \n",
       "6623          200000000        97000759        185884173  \n",
       "6624          200000000        95850844        407150844  \n",
       "\n",
       "[6429 rows x 5 columns]"
      ]
     },
     "execution_count": 11,
     "metadata": {},
     "output_type": "execute_result"
    }
   ],
   "source": [
    "# remove missing data from dataset\n",
    "df = df.dropna(subset=['release_date'])\n",
    "df = df.dropna(subset=['release_date'])"
   ]
  },
  {
   "cell_type": "code",
   "execution_count": 17,
   "id": "814e7432",
   "metadata": {},
   "outputs": [
    {
     "name": "stdout",
     "output_type": "stream",
     "text": [
      "Average ROI (Worldwide Gross / Budget): 4.63\n",
      "\n",
      "Top 10 Movies by ROI:\n",
      "                        Movie  production_budget  worldwide_gross          roi\n",
      "110               Deep Throat              25000         45000000  1800.000000\n",
      "418       Paranormal Activity             450000        194183034   431.517853\n",
      "30                The Gallows             100000         42964410   429.644100\n",
      "325   The Blair Witch Project             600000        248300000   413.833333\n",
      "65              Super Size Me              65000         22233808   342.058585\n",
      "52                     Scoob!              90000         28748685   319.429833\n",
      "457                     Bambi             858000        268000000   312.354312\n",
      "26   Night of the Living Dead             114000         30087064   263.921614\n",
      "706                     Rocky            1000000        225000000   225.000000\n",
      "271                 Halloween             325000         70274000   216.227692\n",
      "\n",
      "Top 10 Movies by Absolute Profit:\n",
      "                                     Movie  production_budget  \\\n",
      "6562                                Avatar          237000000   \n",
      "6526                     Avengers: Endgame          400000000   \n",
      "6587                               Titanic          200000000   \n",
      "6527              Avatar: The Way of Water          400000000   \n",
      "5886                    Ne Zha 2 (哪吒之魔童闹海)           80000000   \n",
      "6533                Avengers: Infinity War          300000000   \n",
      "6585               Spider-Man: No Way Home          200000000   \n",
      "6525  Star Wars Ep. VII: The Force Awakens          533200000   \n",
      "6588                          Inside Out 2          200000000   \n",
      "6575                        Jurassic World          215000000   \n",
      "\n",
      "      worldwide_gross      profit  \n",
      "6562       2923706026  2686706026  \n",
      "6526       2717503922  2317503922  \n",
      "6587       2223048786  2023048786  \n",
      "6527       2320250281  1920250281  \n",
      "5886       1977955712  1897955712  \n",
      "6533       2048359754  1748359754  \n",
      "6585       1921206586  1721206586  \n",
      "6525       2056046835  1522846835  \n",
      "6588       1698831782  1498831782  \n",
      "6575       1671063641  1456063641  \n"
     ]
    }
   ],
   "source": [
    "# Calculate the average return on investment\n",
    "average_roi = (df['worldwide_gross'] / df['production_budget']).mean()\n",
    "print(f'Average ROI (Worldwide Gross / Budget): {average_roi:.2f}')\n",
    "\n",
    "# Find movies with highest ROI\n",
    "df['roi'] = df['worldwide_gross'] / df['production_budget']\n",
    "top_roi_movies = df.sort_values('roi', ascending=False).head(10)\n",
    "print(\"\\nTop 10 Movies by ROI:\")\n",
    "print(top_roi_movies[['Movie', 'production_budget', 'worldwide_gross', 'roi']])\n",
    "\n",
    "# Find movies with highest absolute profit\n",
    "df['profit'] = df['worldwide_gross'] - df['production_budget']\n",
    "top_profit_movies = df.sort_values('profit', ascending=False).head(10)\n",
    "print(\"\\nTop 10 Movies by Absolute Profit:\")\n",
    "print(top_profit_movies[['Movie', 'production_budget', 'worldwide_gross', 'profit']])"
   ]
  },
  {
   "cell_type": "code",
   "execution_count": 13,
   "id": "1e8f5ee1",
   "metadata": {},
   "outputs": [
    {
     "data": {
      "image/png": "[encoded data removed]",
      "text/plain": [
       "<Figure size 1200x800 with 1 Axes>"
      ]
     },
     "metadata": {},
     "output_type": "display_data"
    }
   ],
   "source": [
    "import matplotlib.pyplot as plt\n",
    "import numpy as np\n",
    "from scipy import stats\n",
    "\n",
    "plt.figure(figsize=(12, 8))\n",
    "\n",
    "# Create scatter plot\n",
    "plt.scatter(df['production_budget'], df['worldwide_gross'], alpha=0.5)\n",
    "\n",
    "# Add line of best fit\n",
    "slope, intercept, r_value, p_value, std_err = stats.linregress(df['production_budget'], df['worldwide_gross'])\n",
    "x = np.array([min(df['production_budget']), max(df['production_budget'])])\n",
    "y = slope * x + intercept\n",
    "plt.plot(x, y, 'b-', label=f'Line of best fit (R²={r_value**2:.2f})')\n",
    "\n",
    "# Add break-even line\n",
    "plt.plot([0, max(df['production_budget'])], [0, max(df['production_budget'])], 'r--', \n",
    "         label='Break-even line')\n",
    "\n",
    "# Add title and labels\n",
    "plt.title('Movie Production Budget vs. Worldwide Gross', fontsize=16)\n",
    "plt.xlabel('Production Budget ($)', fontsize=14)\n",
    "plt.ylabel('Worldwide Gross ($)', fontsize=14)\n",
    "\n",
    "plt.grid(True, linestyle='--', alpha=0.7)\n",
    "plt.ticklabel_format(style='plain', axis='both')\n",
    "plt.legend()\n",
    "plt.tight_layout()\n",
    "plt.show()"
   ]
  },
  {
   "cell_type": "code",
   "execution_count": 19,
   "id": "a3fd583f",
   "metadata": {},
   "outputs": [
    {
     "name": "stdout",
     "output_type": "stream",
     "text": [
      "                            OLS Regression Results                            \n",
      "==============================================================================\n",
      "Dep. Variable:        worldwide_gross   R-squared:                       0.517\n",
      "Model:                            OLS   Adj. R-squared:                  0.517\n",
      "Method:                 Least Squares   F-statistic:                     6887.\n",
      "Date:                Sun, 27 Apr 2025   Prob (F-statistic):               0.00\n",
      "Time:                        06:24:12   Log-Likelihood:                -40552.\n",
      "No. Observations:                6429   AIC:                         8.111e+04\n",
      "Df Residuals:                    6427   BIC:                         8.112e+04\n",
      "Df Model:                           1                                         \n",
      "Covariance Type:            nonrobust                                         \n",
      "=====================================================================================\n",
      "                        coef    std err          t      P>|t|      [0.025      0.975]\n",
      "-------------------------------------------------------------------------------------\n",
      "const                -5.2205      2.067     -2.525      0.012      -9.273      -1.168\n",
      "production_budget     3.0156      0.036     82.988      0.000       2.944       3.087\n",
      "==============================================================================\n",
      "Omnibus:                     5320.599   Durbin-Watson:                   1.059\n",
      "Prob(Omnibus):                  0.000   Jarque-Bera (JB):           390655.317\n",
      "Skew:                           3.489   Prob(JB):                         0.00\n",
      "Kurtosis:                      40.545   Cond. No.                         71.0\n",
      "==============================================================================\n",
      "\n",
      "Notes:\n",
      "[1] Standard Errors assume that the covariance matrix of the errors is correctly specified.\n",
      "\n",
      "Coefficients:\n",
      "Intercept: -5.2205 million, p-value: 0.0116\n",
      "Production Budget (millions): 3.0156, p-value: 0.0000\n"
     ]
    }
   ],
   "source": [
    "import pandas as pd\n",
    "import numpy as np\n",
    "import statsmodels.api as sm\n",
    "\n",
    "# Scale the data (divide by 1 million to convert to millions)\n",
    "X = df['production_budget'] / 1_000_000  # Convert to millions\n",
    "X = sm.add_constant(X)\n",
    "y = df['worldwide_gross'] / 1_000_000  # Convert to millions\n",
    "\n",
    "# Fit the model\n",
    "model = sm.OLS(y, X).fit()\n",
    "\n",
    "# Print the summary\n",
    "print(model.summary())\n",
    "\n",
    "# Access specific statistics\n",
    "print(\"\\nCoefficients:\")\n",
    "print(f\"Intercept: {model.params['const']:.4f} million, p-value: {model.pvalues['const']:.4f}\")\n",
    "print(f\"Production Budget (millions): {model.params['production_budget']:.4f}, p-value: {model.pvalues['production_budget']:.4f}\")"
   ]
  }
 ],
 "metadata": {
  "kernelspec": {
   "display_name": "Python 3",
   "language": "python",
   "name": "python3"
  },
  "language_info": {
   "codemirror_mode": {
    "name": "ipython",
    "version": 3
   },
   "file_extension": ".py",
   "mimetype": "text/x-python",
   "name": "python",
   "nbconvert_exporter": "python",
   "pygments_lexer": "ipython3",
   "version": "3.12.2"
  }
 },
 "nbformat": 4,
 "nbformat_minor": 5
}
